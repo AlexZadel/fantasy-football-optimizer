{
 "cells": [
  {
   "cell_type": "markdown",
   "metadata": {},
   "source": [
    "# Data Gathering for Projections "
   ]
  },
  {
   "cell_type": "markdown",
   "metadata": {},
   "source": [
    "## Setup "
   ]
  },
  {
   "cell_type": "code",
   "execution_count": 56,
   "metadata": {
    "ExecuteTime": {
     "end_time": "2020-10-16T03:46:29.371283Z",
     "start_time": "2020-10-16T03:46:29.358698Z"
    }
   },
   "outputs": [],
   "source": [
    "#import libraries\n",
    "import numpy as np\n",
    "import pandas as pd\n",
    "import requests\n",
    "from bs4 import BeautifulSoup\n",
    "import re\n",
    "import json"
   ]
  },
  {
   "cell_type": "markdown",
   "metadata": {},
   "source": [
    "## Functions to Pull Data"
   ]
  },
  {
   "cell_type": "markdown",
   "metadata": {},
   "source": [
    "### Function to Pull Data from a Week "
   ]
  },
  {
   "cell_type": "code",
   "execution_count": 102,
   "metadata": {
    "ExecuteTime": {
     "end_time": "2020-10-16T05:55:34.029756Z",
     "start_time": "2020-10-16T05:55:34.016663Z"
    }
   },
   "outputs": [],
   "source": [
    "def pull_week(year, week):\n",
    "    #set scrape url\n",
    "    base = 'https://www.fantasyfootballdatapros.com/api/players/'\n",
    "    pull_url = f'{base}{str(year)}/{str(week)}'\n",
    "    \n",
    "    #scrape from the site\n",
    "    print(f\"Scraping Week {week} of {year}...\")\n",
    "    raw = requests.get(pull_url)\n",
    "    \n",
    "    #extract json data\n",
    "    soup = BeautifulSoup(raw.text, 'lxml')\n",
    "    text = soup.find('p').text\n",
    "    raw_player_info = json.loads(text)\n",
    "    \n",
    "    return raw_player_info    "
   ]
  },
  {
   "cell_type": "markdown",
   "metadata": {},
   "source": [
    "### Function to build player dataframe from json data"
   ]
  },
  {
   "cell_type": "code",
   "execution_count": 108,
   "metadata": {
    "ExecuteTime": {
     "end_time": "2020-10-16T05:58:48.558514Z",
     "start_time": "2020-10-16T05:58:48.548480Z"
    }
   },
   "outputs": [],
   "source": [
    "def build_player_df(raw_data):\n",
    "    clean_player_info = []\n",
    "    \n",
    "    for player in raw_data:\n",
    "        new_player = {}\n",
    "    \n",
    "        #directly transferred cols\n",
    "        new_player['name'] = player['player_name']\n",
    "        new_player['position'] = player['position']\n",
    "        new_player['team'] = player['team']\n",
    "        new_player['fumbles'] = player['fumbles_lost']\n",
    "\n",
    "        #extract stats info\n",
    "        new_player['ints'] = player['stats']['passing']['int']\n",
    "        new_player['pass_td'] = player['stats']['passing']['passing_td']\n",
    "        new_player['pass_yds'] = player['stats']['passing']['passing_yds']\n",
    "        new_player['rec_tds'] = player['stats']['receiving']['receiving_td']\n",
    "        new_player['rec_yds'] = player['stats']['receiving']['receiving_yds']\n",
    "        new_player['carries'] = player['stats']['rushing']['rushing_att']\n",
    "        new_player['rush_td'] = player['stats']['rushing']['rushing_td']\n",
    "        new_player['rush_yds'] = player['stats']['rushing']['rushing_yds']\n",
    "\n",
    "        #extract fantasy points\n",
    "        new_player['pts_std'] = player['fantasy_points']['standard']\n",
    "        new_player['pts_half'] = player['fantasy_points']['half_ppr']\n",
    "        new_player['pts_ppr'] = player['fantasy_points']['ppr']\n",
    "\n",
    "        clean_player_info.append(new_player)\n",
    "        \n",
    "    return pd.DataFrame(clean_player_info)"
   ]
  },
  {
   "cell_type": "markdown",
   "metadata": {},
   "source": [
    "### Cleaning Functions"
   ]
  },
  {
   "cell_type": "code",
   "execution_count": 112,
   "metadata": {
    "ExecuteTime": {
     "end_time": "2020-10-16T06:07:45.692572Z",
     "start_time": "2020-10-16T06:07:45.678015Z"
    }
   },
   "outputs": [],
   "source": [
    "#deal with weird position cases\n",
    "def fix_odd_pos(x):\n",
    "    if x in ['WR', 'RB', 'TE', 'QB']:\n",
    "        return x\n",
    "    elif x in ['FB', 'WR/RS', 'HB', 'FB/DL', ]:\n",
    "        return 'RB'\n",
    "    elif x in ['WR/PR', 'CB', 'DB', 'DB/LB']:\n",
    "        return 'WR'\n",
    "    elif x in ['C']:\n",
    "        return 'TE'\n",
    "    else:\n",
    "        return \"ERROR CHECK ME\""
   ]
  },
  {
   "cell_type": "code",
   "execution_count": 113,
   "metadata": {
    "ExecuteTime": {
     "end_time": "2020-10-16T06:07:55.403675Z",
     "start_time": "2020-10-16T06:07:55.389912Z"
    }
   },
   "outputs": [],
   "source": [
    "#apply other cleaning functions\n",
    "def clean_player_df(df):\n",
    "    df['position'] = df['position'].apply(lambda x: fix_odd_pos(x))\n",
    "    return df"
   ]
  },
  {
   "cell_type": "markdown",
   "metadata": {},
   "source": [
    "### Export Functions"
   ]
  },
  {
   "cell_type": "code",
   "execution_count": 129,
   "metadata": {
    "ExecuteTime": {
     "end_time": "2020-10-16T06:27:03.809678Z",
     "start_time": "2020-10-16T06:27:03.785836Z"
    }
   },
   "outputs": [],
   "source": [
    "def export_df(df,year, week):\n",
    "    try:\n",
    "        filename = f'./data/{year}-wk{week}-players.csv'    #dynamic file naming\n",
    "        df.to_csv(filename, index=False)               #export dataframe as csv\n",
    "        return df\n",
    "    except:\n",
    "        print(\"Error occurred.\")                       #except statement in case of major error\n",
    "        return df"
   ]
  },
  {
   "cell_type": "markdown",
   "metadata": {},
   "source": [
    "### All together function"
   ]
  },
  {
   "cell_type": "code",
   "execution_count": 132,
   "metadata": {
    "ExecuteTime": {
     "end_time": "2020-10-16T06:27:48.897656Z",
     "start_time": "2020-10-16T06:27:48.883363Z"
    }
   },
   "outputs": [],
   "source": [
    "#function to run all others\n",
    "def weekly_data_pull(year, week):\n",
    "    raw = pull_week(year, week)\n",
    "    df = build_player_df(raw)\n",
    "    df = clean_player_df(df)\n",
    "    return export_df(df, year, week)"
   ]
  },
  {
   "cell_type": "markdown",
   "metadata": {},
   "source": [
    "## Iterate through weeks to pull data"
   ]
  },
  {
   "cell_type": "code",
   "execution_count": 134,
   "metadata": {
    "ExecuteTime": {
     "end_time": "2020-10-16T06:28:02.587991Z",
     "start_time": "2020-10-16T06:27:54.819113Z"
    }
   },
   "outputs": [
    {
     "name": "stdout",
     "output_type": "stream",
     "text": [
      "Scraping Week 1 of 2019...\n",
      "Scraping Week 2 of 2019...\n",
      "Scraping Week 3 of 2019...\n",
      "Scraping Week 4 of 2019...\n",
      "Scraping Week 5 of 2019...\n",
      "Scraping Week 6 of 2019...\n",
      "Scraping Week 7 of 2019...\n",
      "Scraping Week 8 of 2019...\n",
      "Scraping Week 9 of 2019...\n",
      "Scraping Week 10 of 2019...\n",
      "Scraping Week 11 of 2019...\n",
      "Scraping Week 12 of 2019...\n",
      "Scraping Week 13 of 2019...\n"
     ]
    }
   ],
   "source": [
    "#iterate through all 13 weeks of the 2019 season\n",
    "for week_no in range(1,14):\n",
    "    weekly_data_pull(year, week_no)"
   ]
  }
 ],
 "metadata": {
  "kernelspec": {
   "display_name": "Python 3",
   "language": "python",
   "name": "python3"
  },
  "language_info": {
   "codemirror_mode": {
    "name": "ipython",
    "version": 3
   },
   "file_extension": ".py",
   "mimetype": "text/x-python",
   "name": "python",
   "nbconvert_exporter": "python",
   "pygments_lexer": "ipython3",
   "version": "3.7.6"
  },
  "toc": {
   "base_numbering": 1,
   "nav_menu": {},
   "number_sections": false,
   "sideBar": true,
   "skip_h1_title": true,
   "title_cell": "Table of Contents",
   "title_sidebar": "Contents",
   "toc_cell": false,
   "toc_position": {},
   "toc_section_display": true,
   "toc_window_display": false
  },
  "varInspector": {
   "cols": {
    "lenName": 16,
    "lenType": 16,
    "lenVar": 40
   },
   "kernels_config": {
    "python": {
     "delete_cmd_postfix": "",
     "delete_cmd_prefix": "del ",
     "library": "var_list.py",
     "varRefreshCmd": "print(var_dic_list())"
    },
    "r": {
     "delete_cmd_postfix": ") ",
     "delete_cmd_prefix": "rm(",
     "library": "var_list.r",
     "varRefreshCmd": "cat(var_dic_list()) "
    }
   },
   "types_to_exclude": [
    "module",
    "function",
    "builtin_function_or_method",
    "instance",
    "_Feature"
   ],
   "window_display": false
  }
 },
 "nbformat": 4,
 "nbformat_minor": 2
}
